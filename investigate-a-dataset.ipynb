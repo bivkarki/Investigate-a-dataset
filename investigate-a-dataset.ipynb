{
 "cells": [
  {
   "cell_type": "markdown",
   "metadata": {},
   "source": [
    "\n",
    "\n",
    "# Project: Investigate a Dataset (Replace this with something more specific!)\n",
    "\n",
    "## Table of Contents\n",
    "<ul>\n",
    "<li><a href=\"#intro\">Introduction</a></li>\n",
    "<li><a href=\"#wrangling\">Data Wrangling</a></li>\n",
    "<li><a href=\"#eda\">Exploratory Data Analysis</a></li>\n",
    "<li><a href=\"#conclusions\">Conclusions</a></li>\n",
    "</ul>"
   ]
  },
  {
   "cell_type": "markdown",
   "metadata": {},
   "source": [
    "\n",
    "## Introduction\n",
    "\n",
    "<br>\n",
    "I have selected the <b>TMDb Movie Dataset</b> for this project and we will be looking for \n",
    " <ol><li>Total Revenue Genrated in each year and highest among all </li>\n",
    "     <li>Total Budget in each year and highest among all</li>\n",
    "     <li>Total Movies released in each year and highest among all</li>\n",
    "     <li>Average movie ratings for every year</li>\n",
    "     <li>Top 10 most earning movies of all time</li>\n",
    " </ol>\n",
    " Also we will visualize the data\n",
    "<br>\n",
    "In this project,we will be using all of the movies from the dataset from 1960 to 2015."
   ]
  },
  {
   "cell_type": "code",
   "execution_count": 1,
   "metadata": {},
   "outputs": [],
   "source": [
    "# Use this cell to set up import statements for all of the packages that you\n",
    "#   plan to use.\n",
    "import pandas as pd\n",
    "from datetime import datetime as dt\n",
    "import seaborn as sns\n",
    "import matplotlib.pyplot as plt\n",
    "import numpy as np\n",
    "\n",
    "\n",
    "# Remember to include a 'magic word' so that your visualizations are plotted\n",
    "#   inline with the notebook. See this page for more:\n",
    "#   http://ipython.readthedocs.io/en/stable/interactive/magics.html\n",
    "% matplotlib inline"
   ]
  },
  {
   "cell_type": "markdown",
   "metadata": {},
   "source": [
    "<a id='wrangling'></a>\n",
    "## Data Wrangling\n",
    "\n",
    "> **Tip**: In this section of the report, you will load in the data, check for cleanliness, and then trim and clean your dataset for analysis. Make sure that you document your steps carefully and justify your cleaning decisions.\n",
    "\n",
    "### General Properties"
   ]
  },
  {
   "cell_type": "code",
   "execution_count": 2,
   "metadata": {},
   "outputs": [
    {
     "name": "stdout",
     "output_type": "stream",
     "text": [
      "Some of the data in DataFrame\n"
     ]
    },
    {
     "data": {
      "text/html": [
       "<div>\n",
       "<style scoped>\n",
       "    .dataframe tbody tr th:only-of-type {\n",
       "        vertical-align: middle;\n",
       "    }\n",
       "\n",
       "    .dataframe tbody tr th {\n",
       "        vertical-align: top;\n",
       "    }\n",
       "\n",
       "    .dataframe thead th {\n",
       "        text-align: right;\n",
       "    }\n",
       "</style>\n",
       "<table border=\"1\" class=\"dataframe\">\n",
       "  <thead>\n",
       "    <tr style=\"text-align: right;\">\n",
       "      <th></th>\n",
       "      <th>id</th>\n",
       "      <th>imdb_id</th>\n",
       "      <th>popularity</th>\n",
       "      <th>budget</th>\n",
       "      <th>revenue</th>\n",
       "      <th>original_title</th>\n",
       "      <th>cast</th>\n",
       "      <th>homepage</th>\n",
       "      <th>director</th>\n",
       "      <th>tagline</th>\n",
       "      <th>...</th>\n",
       "      <th>overview</th>\n",
       "      <th>runtime</th>\n",
       "      <th>genres</th>\n",
       "      <th>production_companies</th>\n",
       "      <th>release_date</th>\n",
       "      <th>vote_count</th>\n",
       "      <th>vote_average</th>\n",
       "      <th>release_year</th>\n",
       "      <th>budget_adj</th>\n",
       "      <th>revenue_adj</th>\n",
       "    </tr>\n",
       "  </thead>\n",
       "  <tbody>\n",
       "    <tr>\n",
       "      <th>0</th>\n",
       "      <td>135397</td>\n",
       "      <td>tt0369610</td>\n",
       "      <td>32.985763</td>\n",
       "      <td>150000000</td>\n",
       "      <td>1513528810</td>\n",
       "      <td>Jurassic World</td>\n",
       "      <td>Chris Pratt|Bryce Dallas Howard|Irrfan Khan|Vi...</td>\n",
       "      <td>http://www.jurassicworld.com/</td>\n",
       "      <td>Colin Trevorrow</td>\n",
       "      <td>The park is open.</td>\n",
       "      <td>...</td>\n",
       "      <td>Twenty-two years after the events of Jurassic ...</td>\n",
       "      <td>124</td>\n",
       "      <td>Action|Adventure|Science Fiction|Thriller</td>\n",
       "      <td>Universal Studios|Amblin Entertainment|Legenda...</td>\n",
       "      <td>6/9/15</td>\n",
       "      <td>5562</td>\n",
       "      <td>6.5</td>\n",
       "      <td>2015</td>\n",
       "      <td>1.379999e+08</td>\n",
       "      <td>1.392446e+09</td>\n",
       "    </tr>\n",
       "    <tr>\n",
       "      <th>1</th>\n",
       "      <td>76341</td>\n",
       "      <td>tt1392190</td>\n",
       "      <td>28.419936</td>\n",
       "      <td>150000000</td>\n",
       "      <td>378436354</td>\n",
       "      <td>Mad Max: Fury Road</td>\n",
       "      <td>Tom Hardy|Charlize Theron|Hugh Keays-Byrne|Nic...</td>\n",
       "      <td>http://www.madmaxmovie.com/</td>\n",
       "      <td>George Miller</td>\n",
       "      <td>What a Lovely Day.</td>\n",
       "      <td>...</td>\n",
       "      <td>An apocalyptic story set in the furthest reach...</td>\n",
       "      <td>120</td>\n",
       "      <td>Action|Adventure|Science Fiction|Thriller</td>\n",
       "      <td>Village Roadshow Pictures|Kennedy Miller Produ...</td>\n",
       "      <td>5/13/15</td>\n",
       "      <td>6185</td>\n",
       "      <td>7.1</td>\n",
       "      <td>2015</td>\n",
       "      <td>1.379999e+08</td>\n",
       "      <td>3.481613e+08</td>\n",
       "    </tr>\n",
       "    <tr>\n",
       "      <th>2</th>\n",
       "      <td>262500</td>\n",
       "      <td>tt2908446</td>\n",
       "      <td>13.112507</td>\n",
       "      <td>110000000</td>\n",
       "      <td>295238201</td>\n",
       "      <td>Insurgent</td>\n",
       "      <td>Shailene Woodley|Theo James|Kate Winslet|Ansel...</td>\n",
       "      <td>http://www.thedivergentseries.movie/#insurgent</td>\n",
       "      <td>Robert Schwentke</td>\n",
       "      <td>One Choice Can Destroy You</td>\n",
       "      <td>...</td>\n",
       "      <td>Beatrice Prior must confront her inner demons ...</td>\n",
       "      <td>119</td>\n",
       "      <td>Adventure|Science Fiction|Thriller</td>\n",
       "      <td>Summit Entertainment|Mandeville Films|Red Wago...</td>\n",
       "      <td>3/18/15</td>\n",
       "      <td>2480</td>\n",
       "      <td>6.3</td>\n",
       "      <td>2015</td>\n",
       "      <td>1.012000e+08</td>\n",
       "      <td>2.716190e+08</td>\n",
       "    </tr>\n",
       "  </tbody>\n",
       "</table>\n",
       "<p>3 rows × 21 columns</p>\n",
       "</div>"
      ],
      "text/plain": [
       "       id    imdb_id  popularity     budget     revenue      original_title  \\\n",
       "0  135397  tt0369610   32.985763  150000000  1513528810      Jurassic World   \n",
       "1   76341  tt1392190   28.419936  150000000   378436354  Mad Max: Fury Road   \n",
       "2  262500  tt2908446   13.112507  110000000   295238201           Insurgent   \n",
       "\n",
       "                                                cast  \\\n",
       "0  Chris Pratt|Bryce Dallas Howard|Irrfan Khan|Vi...   \n",
       "1  Tom Hardy|Charlize Theron|Hugh Keays-Byrne|Nic...   \n",
       "2  Shailene Woodley|Theo James|Kate Winslet|Ansel...   \n",
       "\n",
       "                                         homepage          director  \\\n",
       "0                   http://www.jurassicworld.com/   Colin Trevorrow   \n",
       "1                     http://www.madmaxmovie.com/     George Miller   \n",
       "2  http://www.thedivergentseries.movie/#insurgent  Robert Schwentke   \n",
       "\n",
       "                      tagline      ...       \\\n",
       "0           The park is open.      ...        \n",
       "1          What a Lovely Day.      ...        \n",
       "2  One Choice Can Destroy You      ...        \n",
       "\n",
       "                                            overview runtime  \\\n",
       "0  Twenty-two years after the events of Jurassic ...     124   \n",
       "1  An apocalyptic story set in the furthest reach...     120   \n",
       "2  Beatrice Prior must confront her inner demons ...     119   \n",
       "\n",
       "                                      genres  \\\n",
       "0  Action|Adventure|Science Fiction|Thriller   \n",
       "1  Action|Adventure|Science Fiction|Thriller   \n",
       "2         Adventure|Science Fiction|Thriller   \n",
       "\n",
       "                                production_companies release_date vote_count  \\\n",
       "0  Universal Studios|Amblin Entertainment|Legenda...       6/9/15       5562   \n",
       "1  Village Roadshow Pictures|Kennedy Miller Produ...      5/13/15       6185   \n",
       "2  Summit Entertainment|Mandeville Films|Red Wago...      3/18/15       2480   \n",
       "\n",
       "   vote_average  release_year    budget_adj   revenue_adj  \n",
       "0           6.5          2015  1.379999e+08  1.392446e+09  \n",
       "1           7.1          2015  1.379999e+08  3.481613e+08  \n",
       "2           6.3          2015  1.012000e+08  2.716190e+08  \n",
       "\n",
       "[3 rows x 21 columns]"
      ]
     },
     "execution_count": 2,
     "metadata": {},
     "output_type": "execute_result"
    }
   ],
   "source": [
    "# Load your data and print out a few lines. Perform operations to inspect data\n",
    "#   types and look for instances of missing or possibly errant data.\n",
    "movie_data=pd.read_csv('tmdb-movies.csv')\n",
    "print(\"Some of the data in DataFrame\")\n",
    "movie_data.head(3)"
   ]
  },
  {
   "cell_type": "code",
   "execution_count": 3,
   "metadata": {
    "scrolled": true
   },
   "outputs": [
    {
     "data": {
      "text/plain": [
       "(10866, 21)"
      ]
     },
     "execution_count": 3,
     "metadata": {},
     "output_type": "execute_result"
    }
   ],
   "source": [
    "#To see no. of movies and no. of columns/attributes\n",
    "movie_data.shape"
   ]
  },
  {
   "cell_type": "markdown",
   "metadata": {},
   "source": [
    "From above we result,there are 10866 movies with 21 attributes as columns"
   ]
  },
  {
   "cell_type": "code",
   "execution_count": 4,
   "metadata": {},
   "outputs": [
    {
     "name": "stdout",
     "output_type": "stream",
     "text": [
      "<class 'pandas.core.frame.DataFrame'>\n",
      "RangeIndex: 10866 entries, 0 to 10865\n",
      "Data columns (total 21 columns):\n",
      "id                      10866 non-null int64\n",
      "imdb_id                 10856 non-null object\n",
      "popularity              10866 non-null float64\n",
      "budget                  10866 non-null int64\n",
      "revenue                 10866 non-null int64\n",
      "original_title          10866 non-null object\n",
      "cast                    10790 non-null object\n",
      "homepage                2936 non-null object\n",
      "director                10822 non-null object\n",
      "tagline                 8042 non-null object\n",
      "keywords                9373 non-null object\n",
      "overview                10862 non-null object\n",
      "runtime                 10866 non-null int64\n",
      "genres                  10843 non-null object\n",
      "production_companies    9836 non-null object\n",
      "release_date            10866 non-null object\n",
      "vote_count              10866 non-null int64\n",
      "vote_average            10866 non-null float64\n",
      "release_year            10866 non-null int64\n",
      "budget_adj              10866 non-null float64\n",
      "revenue_adj             10866 non-null float64\n",
      "dtypes: float64(4), int64(6), object(11)\n",
      "memory usage: 1.7+ MB\n"
     ]
    }
   ],
   "source": [
    "#Checking information(datatype of columns) of Dataframe\n",
    "movie_data.info()"
   ]
  },
  {
   "cell_type": "code",
   "execution_count": 5,
   "metadata": {},
   "outputs": [
    {
     "data": {
      "text/plain": [
       "['id',\n",
       " 'imdb_id',\n",
       " 'popularity',\n",
       " 'budget',\n",
       " 'revenue',\n",
       " 'original_title',\n",
       " 'cast',\n",
       " 'homepage',\n",
       " 'director',\n",
       " 'tagline',\n",
       " 'keywords',\n",
       " 'overview',\n",
       " 'runtime',\n",
       " 'genres',\n",
       " 'production_companies',\n",
       " 'release_date',\n",
       " 'vote_count',\n",
       " 'vote_average',\n",
       " 'release_year',\n",
       " 'budget_adj',\n",
       " 'revenue_adj']"
      ]
     },
     "execution_count": 5,
     "metadata": {},
     "output_type": "execute_result"
    }
   ],
   "source": [
    "#To find the indexes/column or attribute of the movie present in the dataset\n",
    "column_indexes = list(movie_data.columns)\n",
    "column_indexes"
   ]
  },
  {
   "cell_type": "code",
   "execution_count": 6,
   "metadata": {},
   "outputs": [
    {
     "data": {
      "text/plain": [
       "id                         0\n",
       "imdb_id                   10\n",
       "popularity                 0\n",
       "budget                     0\n",
       "revenue                    0\n",
       "original_title             0\n",
       "cast                      76\n",
       "homepage                7930\n",
       "director                  44\n",
       "tagline                 2824\n",
       "keywords                1493\n",
       "overview                   4\n",
       "runtime                    0\n",
       "genres                    23\n",
       "production_companies    1030\n",
       "release_date               0\n",
       "vote_count                 0\n",
       "vote_average               0\n",
       "release_year               0\n",
       "budget_adj                 0\n",
       "revenue_adj                0\n",
       "dtype: int64"
      ]
     },
     "execution_count": 6,
     "metadata": {},
     "output_type": "execute_result"
    }
   ],
   "source": [
    "#To find the number of NA values in each column\n",
    "movie_data.isna().sum()"
   ]
  },
  {
   "cell_type": "markdown",
   "metadata": {},
   "source": [
    "There is presence of NA values in columns which need to be either fixed or removed"
   ]
  },
  {
   "cell_type": "code",
   "execution_count": 7,
   "metadata": {},
   "outputs": [
    {
     "data": {
      "text/plain": [
       "id                      10865\n",
       "imdb_id                 10855\n",
       "popularity              10814\n",
       "budget                    557\n",
       "revenue                  4702\n",
       "original_title          10571\n",
       "cast                    10719\n",
       "homepage                 2896\n",
       "director                 5067\n",
       "tagline                  7997\n",
       "keywords                 8804\n",
       "overview                10847\n",
       "runtime                   247\n",
       "genres                   2039\n",
       "production_companies     7445\n",
       "release_date             5909\n",
       "vote_count               1289\n",
       "vote_average               72\n",
       "release_year               56\n",
       "budget_adj               2614\n",
       "revenue_adj              4840\n",
       "dtype: int64"
      ]
     },
     "execution_count": 7,
     "metadata": {},
     "output_type": "execute_result"
    }
   ],
   "source": [
    "#To find number of unique entries in each column\n",
    "movie_data.nunique()"
   ]
  },
  {
   "cell_type": "code",
   "execution_count": 8,
   "metadata": {},
   "outputs": [
    {
     "data": {
      "text/plain": [
       "1"
      ]
     },
     "execution_count": 8,
     "metadata": {},
     "output_type": "execute_result"
    }
   ],
   "source": [
    "# To find number of duplicate rows\n",
    "movie_data.duplicated().sum()"
   ]
  },
  {
   "cell_type": "markdown",
   "metadata": {},
   "source": [
    "There is one duplicated row which needs to be dropped"
   ]
  },
  {
   "cell_type": "markdown",
   "metadata": {},
   "source": [
    "\n",
    "\n",
    "### Data Cleaning "
   ]
  },
  {
   "cell_type": "markdown",
   "metadata": {},
   "source": [
    "In this phase we are removing duplicate data entries in dataset and keeping only needed information for analysis"
   ]
  },
  {
   "cell_type": "code",
   "execution_count": 9,
   "metadata": {},
   "outputs": [],
   "source": [
    "#To drop duplicate entries from the dataset\n",
    "movie_data.drop_duplicates(inplace = True)"
   ]
  },
  {
   "cell_type": "code",
   "execution_count": 10,
   "metadata": {},
   "outputs": [
    {
     "name": "stdout",
     "output_type": "stream",
     "text": [
      "<class 'pandas.core.frame.DataFrame'>\n",
      "Int64Index: 10865 entries, 0 to 10865\n",
      "Data columns (total 21 columns):\n",
      "id                      10865 non-null int64\n",
      "imdb_id                 10855 non-null object\n",
      "popularity              10865 non-null float64\n",
      "budget                  10865 non-null int64\n",
      "revenue                 10865 non-null int64\n",
      "original_title          10865 non-null object\n",
      "cast                    10789 non-null object\n",
      "homepage                2936 non-null object\n",
      "director                10821 non-null object\n",
      "tagline                 8041 non-null object\n",
      "keywords                9372 non-null object\n",
      "overview                10861 non-null object\n",
      "runtime                 10865 non-null int64\n",
      "genres                  10842 non-null object\n",
      "production_companies    9835 non-null object\n",
      "release_date            10865 non-null object\n",
      "vote_count              10865 non-null int64\n",
      "vote_average            10865 non-null float64\n",
      "release_year            10865 non-null int64\n",
      "budget_adj              10865 non-null float64\n",
      "revenue_adj             10865 non-null float64\n",
      "dtypes: float64(4), int64(6), object(11)\n",
      "memory usage: 1.8+ MB\n"
     ]
    }
   ],
   "source": [
    "#To see the changes in dataset\n",
    "movie_data.info()"
   ]
  },
  {
   "cell_type": "code",
   "execution_count": 11,
   "metadata": {},
   "outputs": [],
   "source": [
    "# After discussing the structure of the data and any problems that need to be\n",
    "#   cleaned, perform those cleaning steps in the second part of this section.\n",
    "cols_to_be_dropped=['imdb_id','cast','director','genres','homepage','director','overview','tagline','keywords','production_companies']\n",
    "movie_data.drop( columns=cols_to_be_dropped,inplace=True)\n"
   ]
  },
  {
   "cell_type": "markdown",
   "metadata": {},
   "source": [
    "Since,we are doing analysis only for certain data column so its better to remove inaccurate or irrelevant parts of the data which save our time and make it convenient to fix errors\n",
    "<Br>\n",
    "So,we are dropping some columns which are not required for our analysis or may rise error  in future "
   ]
  },
  {
   "cell_type": "code",
   "execution_count": 12,
   "metadata": {
    "scrolled": true
   },
   "outputs": [
    {
     "data": {
      "text/html": [
       "<div>\n",
       "<style scoped>\n",
       "    .dataframe tbody tr th:only-of-type {\n",
       "        vertical-align: middle;\n",
       "    }\n",
       "\n",
       "    .dataframe tbody tr th {\n",
       "        vertical-align: top;\n",
       "    }\n",
       "\n",
       "    .dataframe thead th {\n",
       "        text-align: right;\n",
       "    }\n",
       "</style>\n",
       "<table border=\"1\" class=\"dataframe\">\n",
       "  <thead>\n",
       "    <tr style=\"text-align: right;\">\n",
       "      <th></th>\n",
       "      <th>id</th>\n",
       "      <th>popularity</th>\n",
       "      <th>budget</th>\n",
       "      <th>revenue</th>\n",
       "      <th>original_title</th>\n",
       "      <th>runtime</th>\n",
       "      <th>release_date</th>\n",
       "      <th>vote_count</th>\n",
       "      <th>vote_average</th>\n",
       "      <th>release_year</th>\n",
       "      <th>budget_adj</th>\n",
       "      <th>revenue_adj</th>\n",
       "    </tr>\n",
       "  </thead>\n",
       "  <tbody>\n",
       "    <tr>\n",
       "      <th>0</th>\n",
       "      <td>135397</td>\n",
       "      <td>32.985763</td>\n",
       "      <td>150000000</td>\n",
       "      <td>1513528810</td>\n",
       "      <td>Jurassic World</td>\n",
       "      <td>124</td>\n",
       "      <td>6/9/15</td>\n",
       "      <td>5562</td>\n",
       "      <td>6.5</td>\n",
       "      <td>2015</td>\n",
       "      <td>1.379999e+08</td>\n",
       "      <td>1.392446e+09</td>\n",
       "    </tr>\n",
       "  </tbody>\n",
       "</table>\n",
       "</div>"
      ],
      "text/plain": [
       "       id  popularity     budget     revenue  original_title  runtime  \\\n",
       "0  135397   32.985763  150000000  1513528810  Jurassic World      124   \n",
       "\n",
       "  release_date  vote_count  vote_average  release_year    budget_adj  \\\n",
       "0       6/9/15        5562           6.5          2015  1.379999e+08   \n",
       "\n",
       "    revenue_adj  \n",
       "0  1.392446e+09  "
      ]
     },
     "execution_count": 12,
     "metadata": {},
     "output_type": "execute_result"
    }
   ],
   "source": [
    "movie_data.head(1)"
   ]
  },
  {
   "cell_type": "markdown",
   "metadata": {},
   "source": [
    "Now,columns which were not required are dropped"
   ]
  },
  {
   "cell_type": "code",
   "execution_count": 13,
   "metadata": {},
   "outputs": [
    {
     "data": {
      "text/plain": [
       "(10865, 12)"
      ]
     },
     "execution_count": 13,
     "metadata": {},
     "output_type": "execute_result"
    }
   ],
   "source": [
    "movie_data.shape"
   ]
  },
  {
   "cell_type": "code",
   "execution_count": 14,
   "metadata": {},
   "outputs": [
    {
     "data": {
      "text/plain": [
       "id                0\n",
       "popularity        0\n",
       "budget            0\n",
       "revenue           0\n",
       "original_title    0\n",
       "runtime           0\n",
       "release_date      0\n",
       "vote_count        0\n",
       "vote_average      0\n",
       "release_year      0\n",
       "budget_adj        0\n",
       "revenue_adj       0\n",
       "dtype: int64"
      ]
     },
     "execution_count": 14,
     "metadata": {},
     "output_type": "execute_result"
    }
   ],
   "source": [
    "#Checking whether we are still left with some incompleteness or not\n",
    "movie_data.isna().sum()"
   ]
  },
  {
   "cell_type": "markdown",
   "metadata": {},
   "source": [
    "At this stage,our data seems to be all cleaned but still there might exist some incompletenes so lets check it one more time"
   ]
  },
  {
   "cell_type": "code",
   "execution_count": 15,
   "metadata": {
    "scrolled": false
   },
   "outputs": [
    {
     "data": {
      "text/html": [
       "<div>\n",
       "<style scoped>\n",
       "    .dataframe tbody tr th:only-of-type {\n",
       "        vertical-align: middle;\n",
       "    }\n",
       "\n",
       "    .dataframe tbody tr th {\n",
       "        vertical-align: top;\n",
       "    }\n",
       "\n",
       "    .dataframe thead th {\n",
       "        text-align: right;\n",
       "    }\n",
       "</style>\n",
       "<table border=\"1\" class=\"dataframe\">\n",
       "  <thead>\n",
       "    <tr style=\"text-align: right;\">\n",
       "      <th></th>\n",
       "      <th>id</th>\n",
       "      <th>popularity</th>\n",
       "      <th>budget</th>\n",
       "      <th>revenue</th>\n",
       "      <th>runtime</th>\n",
       "      <th>vote_count</th>\n",
       "      <th>vote_average</th>\n",
       "      <th>release_year</th>\n",
       "      <th>budget_adj</th>\n",
       "      <th>revenue_adj</th>\n",
       "    </tr>\n",
       "  </thead>\n",
       "  <tbody>\n",
       "    <tr>\n",
       "      <th>count</th>\n",
       "      <td>10865.00</td>\n",
       "      <td>10865.00</td>\n",
       "      <td>1.086500e+04</td>\n",
       "      <td>1.086500e+04</td>\n",
       "      <td>10865.00</td>\n",
       "      <td>10865.00</td>\n",
       "      <td>10865.00</td>\n",
       "      <td>10865.00</td>\n",
       "      <td>1.086500e+04</td>\n",
       "      <td>1.086500e+04</td>\n",
       "    </tr>\n",
       "    <tr>\n",
       "      <th>mean</th>\n",
       "      <td>66066.37</td>\n",
       "      <td>0.65</td>\n",
       "      <td>1.462429e+07</td>\n",
       "      <td>3.982690e+07</td>\n",
       "      <td>102.07</td>\n",
       "      <td>217.40</td>\n",
       "      <td>5.98</td>\n",
       "      <td>2001.32</td>\n",
       "      <td>1.754989e+07</td>\n",
       "      <td>5.136900e+07</td>\n",
       "    </tr>\n",
       "    <tr>\n",
       "      <th>std</th>\n",
       "      <td>92134.09</td>\n",
       "      <td>1.00</td>\n",
       "      <td>3.091428e+07</td>\n",
       "      <td>1.170083e+08</td>\n",
       "      <td>31.38</td>\n",
       "      <td>575.64</td>\n",
       "      <td>0.94</td>\n",
       "      <td>12.81</td>\n",
       "      <td>3.430753e+07</td>\n",
       "      <td>1.446383e+08</td>\n",
       "    </tr>\n",
       "    <tr>\n",
       "      <th>min</th>\n",
       "      <td>5.00</td>\n",
       "      <td>0.00</td>\n",
       "      <td>0.000000e+00</td>\n",
       "      <td>0.000000e+00</td>\n",
       "      <td>0.00</td>\n",
       "      <td>10.00</td>\n",
       "      <td>1.50</td>\n",
       "      <td>1960.00</td>\n",
       "      <td>0.000000e+00</td>\n",
       "      <td>0.000000e+00</td>\n",
       "    </tr>\n",
       "    <tr>\n",
       "      <th>25%</th>\n",
       "      <td>10596.00</td>\n",
       "      <td>0.21</td>\n",
       "      <td>0.000000e+00</td>\n",
       "      <td>0.000000e+00</td>\n",
       "      <td>90.00</td>\n",
       "      <td>17.00</td>\n",
       "      <td>5.40</td>\n",
       "      <td>1995.00</td>\n",
       "      <td>0.000000e+00</td>\n",
       "      <td>0.000000e+00</td>\n",
       "    </tr>\n",
       "    <tr>\n",
       "      <th>50%</th>\n",
       "      <td>20662.00</td>\n",
       "      <td>0.38</td>\n",
       "      <td>0.000000e+00</td>\n",
       "      <td>0.000000e+00</td>\n",
       "      <td>99.00</td>\n",
       "      <td>38.00</td>\n",
       "      <td>6.00</td>\n",
       "      <td>2006.00</td>\n",
       "      <td>0.000000e+00</td>\n",
       "      <td>0.000000e+00</td>\n",
       "    </tr>\n",
       "    <tr>\n",
       "      <th>75%</th>\n",
       "      <td>75612.00</td>\n",
       "      <td>0.71</td>\n",
       "      <td>1.500000e+07</td>\n",
       "      <td>2.400000e+07</td>\n",
       "      <td>111.00</td>\n",
       "      <td>146.00</td>\n",
       "      <td>6.60</td>\n",
       "      <td>2011.00</td>\n",
       "      <td>2.085325e+07</td>\n",
       "      <td>3.370173e+07</td>\n",
       "    </tr>\n",
       "    <tr>\n",
       "      <th>max</th>\n",
       "      <td>417859.00</td>\n",
       "      <td>32.99</td>\n",
       "      <td>4.250000e+08</td>\n",
       "      <td>2.781506e+09</td>\n",
       "      <td>900.00</td>\n",
       "      <td>9767.00</td>\n",
       "      <td>9.20</td>\n",
       "      <td>2015.00</td>\n",
       "      <td>4.250000e+08</td>\n",
       "      <td>2.827124e+09</td>\n",
       "    </tr>\n",
       "  </tbody>\n",
       "</table>\n",
       "</div>"
      ],
      "text/plain": [
       "              id  popularity        budget       revenue   runtime  \\\n",
       "count   10865.00    10865.00  1.086500e+04  1.086500e+04  10865.00   \n",
       "mean    66066.37        0.65  1.462429e+07  3.982690e+07    102.07   \n",
       "std     92134.09        1.00  3.091428e+07  1.170083e+08     31.38   \n",
       "min         5.00        0.00  0.000000e+00  0.000000e+00      0.00   \n",
       "25%     10596.00        0.21  0.000000e+00  0.000000e+00     90.00   \n",
       "50%     20662.00        0.38  0.000000e+00  0.000000e+00     99.00   \n",
       "75%     75612.00        0.71  1.500000e+07  2.400000e+07    111.00   \n",
       "max    417859.00       32.99  4.250000e+08  2.781506e+09    900.00   \n",
       "\n",
       "       vote_count  vote_average  release_year    budget_adj   revenue_adj  \n",
       "count    10865.00      10865.00      10865.00  1.086500e+04  1.086500e+04  \n",
       "mean       217.40          5.98       2001.32  1.754989e+07  5.136900e+07  \n",
       "std        575.64          0.94         12.81  3.430753e+07  1.446383e+08  \n",
       "min         10.00          1.50       1960.00  0.000000e+00  0.000000e+00  \n",
       "25%         17.00          5.40       1995.00  0.000000e+00  0.000000e+00  \n",
       "50%         38.00          6.00       2006.00  0.000000e+00  0.000000e+00  \n",
       "75%        146.00          6.60       2011.00  2.085325e+07  3.370173e+07  \n",
       "max       9767.00          9.20       2015.00  4.250000e+08  2.827124e+09  "
      ]
     },
     "execution_count": 15,
     "metadata": {},
     "output_type": "execute_result"
    }
   ],
   "source": [
    "#To find stastistics form the dataset\n",
    "round(movie_data.describe(),2)"
   ]
  },
  {
   "cell_type": "markdown",
   "metadata": {},
   "source": [
    "From above statistics for some column we can see minimum value is zero for some column it is possible but in reality there can be no movies with 0 budget and 0 revenue.\n",
    "<br>\n",
    "So,we will replace the values of 0 in budget and revenue with null value in budget and revenue column"
   ]
  },
  {
   "cell_type": "code",
   "execution_count": 16,
   "metadata": {},
   "outputs": [],
   "source": [
    "movie_data['budget'] = movie_data['budget'].replace(0,np.nan)\n",
    "movie_data['revenue'] = movie_data['revenue'].replace(0,np.nan)"
   ]
  },
  {
   "cell_type": "code",
   "execution_count": 17,
   "metadata": {
    "scrolled": true
   },
   "outputs": [
    {
     "data": {
      "text/html": [
       "<div>\n",
       "<style scoped>\n",
       "    .dataframe tbody tr th:only-of-type {\n",
       "        vertical-align: middle;\n",
       "    }\n",
       "\n",
       "    .dataframe tbody tr th {\n",
       "        vertical-align: top;\n",
       "    }\n",
       "\n",
       "    .dataframe thead th {\n",
       "        text-align: right;\n",
       "    }\n",
       "</style>\n",
       "<table border=\"1\" class=\"dataframe\">\n",
       "  <thead>\n",
       "    <tr style=\"text-align: right;\">\n",
       "      <th></th>\n",
       "      <th>id</th>\n",
       "      <th>popularity</th>\n",
       "      <th>budget</th>\n",
       "      <th>revenue</th>\n",
       "      <th>runtime</th>\n",
       "      <th>vote_count</th>\n",
       "      <th>vote_average</th>\n",
       "      <th>release_year</th>\n",
       "      <th>budget_adj</th>\n",
       "      <th>revenue_adj</th>\n",
       "    </tr>\n",
       "  </thead>\n",
       "  <tbody>\n",
       "    <tr>\n",
       "      <th>count</th>\n",
       "      <td>10865.00</td>\n",
       "      <td>10865.00</td>\n",
       "      <td>5.169000e+03</td>\n",
       "      <td>4.849000e+03</td>\n",
       "      <td>10865.00</td>\n",
       "      <td>10865.00</td>\n",
       "      <td>10865.00</td>\n",
       "      <td>10865.00</td>\n",
       "      <td>1.086500e+04</td>\n",
       "      <td>1.086500e+04</td>\n",
       "    </tr>\n",
       "    <tr>\n",
       "      <th>mean</th>\n",
       "      <td>66066.37</td>\n",
       "      <td>0.65</td>\n",
       "      <td>3.073958e+07</td>\n",
       "      <td>8.923886e+07</td>\n",
       "      <td>102.07</td>\n",
       "      <td>217.40</td>\n",
       "      <td>5.98</td>\n",
       "      <td>2001.32</td>\n",
       "      <td>1.754989e+07</td>\n",
       "      <td>5.136900e+07</td>\n",
       "    </tr>\n",
       "    <tr>\n",
       "      <th>std</th>\n",
       "      <td>92134.09</td>\n",
       "      <td>1.00</td>\n",
       "      <td>3.890441e+07</td>\n",
       "      <td>1.620801e+08</td>\n",
       "      <td>31.38</td>\n",
       "      <td>575.64</td>\n",
       "      <td>0.94</td>\n",
       "      <td>12.81</td>\n",
       "      <td>3.430753e+07</td>\n",
       "      <td>1.446383e+08</td>\n",
       "    </tr>\n",
       "    <tr>\n",
       "      <th>min</th>\n",
       "      <td>5.00</td>\n",
       "      <td>0.00</td>\n",
       "      <td>1.000000e+00</td>\n",
       "      <td>2.000000e+00</td>\n",
       "      <td>0.00</td>\n",
       "      <td>10.00</td>\n",
       "      <td>1.50</td>\n",
       "      <td>1960.00</td>\n",
       "      <td>0.000000e+00</td>\n",
       "      <td>0.000000e+00</td>\n",
       "    </tr>\n",
       "    <tr>\n",
       "      <th>25%</th>\n",
       "      <td>10596.00</td>\n",
       "      <td>0.21</td>\n",
       "      <td>6.000000e+06</td>\n",
       "      <td>7.732325e+06</td>\n",
       "      <td>90.00</td>\n",
       "      <td>17.00</td>\n",
       "      <td>5.40</td>\n",
       "      <td>1995.00</td>\n",
       "      <td>0.000000e+00</td>\n",
       "      <td>0.000000e+00</td>\n",
       "    </tr>\n",
       "    <tr>\n",
       "      <th>50%</th>\n",
       "      <td>20662.00</td>\n",
       "      <td>0.38</td>\n",
       "      <td>1.700000e+07</td>\n",
       "      <td>3.185308e+07</td>\n",
       "      <td>99.00</td>\n",
       "      <td>38.00</td>\n",
       "      <td>6.00</td>\n",
       "      <td>2006.00</td>\n",
       "      <td>0.000000e+00</td>\n",
       "      <td>0.000000e+00</td>\n",
       "    </tr>\n",
       "    <tr>\n",
       "      <th>75%</th>\n",
       "      <td>75612.00</td>\n",
       "      <td>0.71</td>\n",
       "      <td>4.000000e+07</td>\n",
       "      <td>9.996575e+07</td>\n",
       "      <td>111.00</td>\n",
       "      <td>146.00</td>\n",
       "      <td>6.60</td>\n",
       "      <td>2011.00</td>\n",
       "      <td>2.085325e+07</td>\n",
       "      <td>3.370173e+07</td>\n",
       "    </tr>\n",
       "    <tr>\n",
       "      <th>max</th>\n",
       "      <td>417859.00</td>\n",
       "      <td>32.99</td>\n",
       "      <td>4.250000e+08</td>\n",
       "      <td>2.781506e+09</td>\n",
       "      <td>900.00</td>\n",
       "      <td>9767.00</td>\n",
       "      <td>9.20</td>\n",
       "      <td>2015.00</td>\n",
       "      <td>4.250000e+08</td>\n",
       "      <td>2.827124e+09</td>\n",
       "    </tr>\n",
       "  </tbody>\n",
       "</table>\n",
       "</div>"
      ],
      "text/plain": [
       "              id  popularity        budget       revenue   runtime  \\\n",
       "count   10865.00    10865.00  5.169000e+03  4.849000e+03  10865.00   \n",
       "mean    66066.37        0.65  3.073958e+07  8.923886e+07    102.07   \n",
       "std     92134.09        1.00  3.890441e+07  1.620801e+08     31.38   \n",
       "min         5.00        0.00  1.000000e+00  2.000000e+00      0.00   \n",
       "25%     10596.00        0.21  6.000000e+06  7.732325e+06     90.00   \n",
       "50%     20662.00        0.38  1.700000e+07  3.185308e+07     99.00   \n",
       "75%     75612.00        0.71  4.000000e+07  9.996575e+07    111.00   \n",
       "max    417859.00       32.99  4.250000e+08  2.781506e+09    900.00   \n",
       "\n",
       "       vote_count  vote_average  release_year    budget_adj   revenue_adj  \n",
       "count    10865.00      10865.00      10865.00  1.086500e+04  1.086500e+04  \n",
       "mean       217.40          5.98       2001.32  1.754989e+07  5.136900e+07  \n",
       "std        575.64          0.94         12.81  3.430753e+07  1.446383e+08  \n",
       "min         10.00          1.50       1960.00  0.000000e+00  0.000000e+00  \n",
       "25%         17.00          5.40       1995.00  0.000000e+00  0.000000e+00  \n",
       "50%         38.00          6.00       2006.00  0.000000e+00  0.000000e+00  \n",
       "75%        146.00          6.60       2011.00  2.085325e+07  3.370173e+07  \n",
       "max       9767.00          9.20       2015.00  4.250000e+08  2.827124e+09  "
      ]
     },
     "execution_count": 17,
     "metadata": {},
     "output_type": "execute_result"
    }
   ],
   "source": [
    "#To see updated stastistics form the dataset\n",
    "round(movie_data.describe(),2)"
   ]
  },
  {
   "cell_type": "markdown",
   "metadata": {},
   "source": [
    "<a id='eda'></a>\n",
    "## Exploratory Data Analysis'\n",
    "\n"
   ]
  },
  {
   "cell_type": "markdown",
   "metadata": {},
   "source": [
    "Exploring our data in columns with the help of one dimensional visualization"
   ]
  },
  {
   "cell_type": "code",
   "execution_count": 20,
   "metadata": {},
   "outputs": [
    {
     "data": {
      "text/plain": [
       "array([[<matplotlib.axes._subplots.AxesSubplot object at 0x000001CE2C44D828>,\n",
       "        <matplotlib.axes._subplots.AxesSubplot object at 0x000001CE2CDE8278>,\n",
       "        <matplotlib.axes._subplots.AxesSubplot object at 0x000001CE2CE08588>],\n",
       "       [<matplotlib.axes._subplots.AxesSubplot object at 0x000001CE2C761898>,\n",
       "        <matplotlib.axes._subplots.AxesSubplot object at 0x000001CE2C78BB38>,\n",
       "        <matplotlib.axes._subplots.AxesSubplot object at 0x000001CE2C78BB70>],\n",
       "       [<matplotlib.axes._subplots.AxesSubplot object at 0x000001CE2C7E9198>,\n",
       "        <matplotlib.axes._subplots.AxesSubplot object at 0x000001CE2C8124A8>,\n",
       "        <matplotlib.axes._subplots.AxesSubplot object at 0x000001CE2C83D7B8>],\n",
       "       [<matplotlib.axes._subplots.AxesSubplot object at 0x000001CE2C866AC8>,\n",
       "        <matplotlib.axes._subplots.AxesSubplot object at 0x000001CE2C892DD8>,\n",
       "        <matplotlib.axes._subplots.AxesSubplot object at 0x000001CE2C8C72E8>]],\n",
       "      dtype=object)"
      ]
     },
     "execution_count": 20,
     "metadata": {},
     "output_type": "execute_result"
    },
    {
     "data": {
      "image/png": "[encoded data removed]",
      "text/plain": [
       "<Figure size 1080x720 with 12 Axes>"
      ]
     },
     "metadata": {},
     "output_type": "display_data"
    }
   ],
   "source": [
    "#creating histogram for different columns\n",
    "movie_data.hist(figsize=(15,10))"
   ]
  },
  {
   "cell_type": "markdown",
   "metadata": {},
   "source": [
    "\n",
    "### Research Question 1:Finding the Highest Movie Revenue Grossing Year\n",
    "<br>\n",
    "The first thing I wanted to do was find the highest grossing months for movies. I wanted to look at the total amount of money that each month made - as well as the average revenue for movies in each month."
   ]
  },
  {
   "cell_type": "code",
   "execution_count": 21,
   "metadata": {},
   "outputs": [
    {
     "data": {
      "text/plain": [
       "release_year\n",
       "1960    1.450050e+08\n",
       "1961    3.377202e+08\n",
       "1962    2.155798e+08\n",
       "1963    1.874050e+08\n",
       "1964    3.409818e+08\n",
       "1965    4.580819e+08\n",
       "1966    8.473669e+07\n",
       "1967    7.378346e+08\n",
       "1968    2.647330e+08\n",
       "1969    2.439571e+08\n",
       "1970    5.602220e+08\n",
       "1971    4.049106e+08\n",
       "1972    4.947302e+08\n",
       "1973    1.223981e+09\n",
       "1974    8.125398e+08\n",
       "1975    9.574900e+08\n",
       "1976    8.010056e+08\n",
       "1977    2.180583e+09\n",
       "1978    1.369780e+09\n",
       "1979    1.684795e+09\n",
       "1980    1.768662e+09\n",
       "1981    1.774606e+09\n",
       "1982    2.458444e+09\n",
       "1983    2.307529e+09\n",
       "1984    2.635524e+09\n",
       "1985    2.875772e+09\n",
       "1986    3.002778e+09\n",
       "1987    3.462105e+09\n",
       "1988    3.739551e+09\n",
       "1989    5.164924e+09\n",
       "1990    5.315167e+09\n",
       "1991    4.706600e+09\n",
       "1992    6.078153e+09\n",
       "1993    6.955151e+09\n",
       "1994    7.095429e+09\n",
       "1995    9.156341e+09\n",
       "1996    8.311492e+09\n",
       "1997    1.065517e+10\n",
       "1998    9.493175e+09\n",
       "1999    1.135571e+10\n",
       "2000    1.097870e+10\n",
       "2001    1.341008e+10\n",
       "2002    1.464362e+10\n",
       "2003    1.513824e+10\n",
       "2004    1.679382e+10\n",
       "2005    1.651684e+10\n",
       "2006    1.627574e+10\n",
       "2007    1.941167e+10\n",
       "2008    1.943170e+10\n",
       "2009    2.218017e+10\n",
       "2010    2.195903e+10\n",
       "2011    2.369559e+10\n",
       "2012    2.466843e+10\n",
       "2013    2.470363e+10\n",
       "2014    2.433115e+10\n",
       "2015    2.676245e+10\n",
       "Name: revenue, dtype: float64"
      ]
     },
     "execution_count": 21,
     "metadata": {},
     "output_type": "execute_result"
    }
   ],
   "source": [
    "# Use this, and more code cells, to explore your data. Don't forget to add\n",
    "#   Markdown cells to document your observations and findings.\n",
    "# Finding the total revenue generated in a year\n",
    "\n",
    "revenue_by_year = movie_data.groupby(['release_year']).sum()['revenue'] \n",
    "revenue_by_year"
   ]
  },
  {
   "cell_type": "code",
   "execution_count": 22,
   "metadata": {
    "scrolled": false
   },
   "outputs": [
    {
     "data": {
      "image/png": "[encoded data removed]",
      "text/plain": [
       "<Figure size 1440x720 with 1 Axes>"
      ]
     },
     "metadata": {},
     "output_type": "display_data"
    }
   ],
   "source": [
    "ax=plt.subplot()\n",
    "revenue_by_year.plot.bar(figsize=(20,10),grid=True,width=0.8)\n",
    "plt.title(\"Revenues generated in each years\",size=25)\n",
    "plt.xlabel(\"Movie Years\",size=20)\n",
    "plt.ylabel(\"Total Revenue in a Year (in 10 Billions)\",size=20)\n",
    "ax.tick_params(labelsize=15,labelcolor='orange',grid_color='grey')"
   ]
  },
  {
   "cell_type": "code",
   "execution_count": 23,
   "metadata": {
    "scrolled": true
   },
   "outputs": [
    {
     "name": "stdout",
     "output_type": "stream",
     "text": [
      "The Highest movie revenue is 26,762,450,518.00 in year 2015\n"
     ]
    }
   ],
   "source": [
    "print(\"The Highest movie revenue is {:,.2f} in year {}\".format(revenue_by_year.max(),revenue_by_year.idxmax()))"
   ]
  },
  {
   "cell_type": "code",
   "execution_count": 24,
   "metadata": {},
   "outputs": [
    {
     "data": {
      "text/plain": [
       "Text(0.5,1,\"Revenue's Histogram\")"
      ]
     },
     "execution_count": 24,
     "metadata": {},
     "output_type": "execute_result"
    },
    {
     "data": {
      "image/png": "[encoded data removed]",
      "text/plain": [
       "<Figure size 720x360 with 1 Axes>"
      ]
     },
     "metadata": {},
     "output_type": "display_data"
    }
   ],
   "source": [
    "#one dimensional visualization of Revenues\n",
    "revenue_by_year.hist(figsize=(10,5))\n",
    "plt.xlabel(\"Revenue generated in in 10 Billions\")\n",
    "plt.ylabel(\"Frequency\")\n",
    "plt.title(\"Revenue's Histogram\")"
   ]
  },
  {
   "cell_type": "markdown",
   "metadata": {},
   "source": [
    "### Research Question 2:Finding the Highest Movie Budget in a Year"
   ]
  },
  {
   "cell_type": "code",
   "execution_count": 25,
   "metadata": {},
   "outputs": [
    {
     "data": {
      "text/plain": [
       "release_year\n",
       "1960    2.205695e+07\n",
       "1961    4.613700e+07\n",
       "1962    5.472213e+07\n",
       "1963    7.333150e+07\n",
       "1964    3.948316e+07\n",
       "1965    7.020512e+07\n",
       "1966    5.755480e+07\n",
       "1967    1.006522e+08\n",
       "1968    7.193900e+07\n",
       "1969    4.212909e+07\n",
       "1970    1.269669e+08\n",
       "1971    7.599700e+07\n",
       "1972    3.627925e+07\n",
       "1973    6.519078e+07\n",
       "1974    7.697000e+07\n",
       "1975    5.627900e+07\n",
       "1976    1.221500e+08\n",
       "1977    1.615800e+08\n",
       "1978    2.089970e+08\n",
       "1979    2.548140e+08\n",
       "1980    3.625000e+08\n",
       "1981    3.737578e+08\n",
       "1982    4.377950e+08\n",
       "1983    5.191074e+08\n",
       "1984    7.292120e+08\n",
       "1985    7.487206e+08\n",
       "1986    7.045336e+08\n",
       "1987    7.094558e+08\n",
       "1988    9.253480e+08\n",
       "1989    1.079656e+09\n",
       "1990    1.289922e+09\n",
       "1991    1.466233e+09\n",
       "1992    1.441765e+09\n",
       "1993    1.779629e+09\n",
       "1994    2.229207e+09\n",
       "1995    2.865884e+09\n",
       "1996    3.687042e+09\n",
       "1997    4.751087e+09\n",
       "1998    4.499660e+09\n",
       "1999    5.765235e+09\n",
       "2000    5.752700e+09\n",
       "2001    5.641944e+09\n",
       "2002    5.894640e+09\n",
       "2003    6.239858e+09\n",
       "2004    7.170340e+09\n",
       "2005    7.343284e+09\n",
       "2006    7.306185e+09\n",
       "2007    7.635569e+09\n",
       "2008    7.781263e+09\n",
       "2009    8.594084e+09\n",
       "2010    9.355001e+09\n",
       "2011    9.018154e+09\n",
       "2012    8.274084e+09\n",
       "2013    9.236038e+09\n",
       "2014    7.923990e+09\n",
       "2015    7.596548e+09\n",
       "Name: budget, dtype: float64"
      ]
     },
     "execution_count": 25,
     "metadata": {},
     "output_type": "execute_result"
    }
   ],
   "source": [
    "# Continue to explore the data to address your additional research\n",
    "#   questions. Add more headers as needed if you have more questions to\n",
    "#   investigate.\n",
    "budget_by_year = movie_data.groupby(['release_year']).sum()['budget'] \n",
    "budget_by_year"
   ]
  },
  {
   "cell_type": "code",
   "execution_count": 26,
   "metadata": {
    "scrolled": false
   },
   "outputs": [
    {
     "data": {
      "image/png": "[encoded data removed]",
      "text/plain": [
       "<Figure size 1440x720 with 1 Axes>"
      ]
     },
     "metadata": {},
     "output_type": "display_data"
    }
   ],
   "source": [
    "ax=plt.subplot()\n",
    "budget_by_year.plot.bar(figsize=(20,10),grid=True,width=0.8)\n",
    "plt.title(\"Budgets throughout the years\",size=25)\n",
    "plt.xlabel(\"Movie Years\",size=20)\n",
    "plt.ylabel(\"Total Budget in a Year (in 10 Billions)\",size=20)\n",
    "ax.tick_params(labelsize=15,labelcolor='blue')"
   ]
  },
  {
   "cell_type": "code",
   "execution_count": 27,
   "metadata": {
    "scrolled": true
   },
   "outputs": [
    {
     "name": "stdout",
     "output_type": "stream",
     "text": [
      "The Highest movie budget is 9,355,001,006.00 in year 2010\n"
     ]
    }
   ],
   "source": [
    "print(\"The Highest movie budget is {:,.2f} in year {}\".format(budget_by_year.max(),budget_by_year.idxmax()))"
   ]
  },
  {
   "cell_type": "code",
   "execution_count": 30,
   "metadata": {},
   "outputs": [
    {
     "data": {
      "text/plain": [
       "Text(0.5,1,\"Budget's Histogram\")"
      ]
     },
     "execution_count": 30,
     "metadata": {},
     "output_type": "execute_result"
    },
    {
     "data": {
      "image/png": "[encoded data removed]",
      "text/plain": [
       "<Figure size 720x360 with 1 Axes>"
      ]
     },
     "metadata": {},
     "output_type": "display_data"
    }
   ],
   "source": [
    "#one dimensional visualization of budgets\n",
    "budget_by_year.hist(figsize=(10,5))\n",
    "plt.xlabel(\"Budget in in 10 Billions\")\n",
    "plt.ylabel(\"Frequency\")\n",
    "plt.title(\"Budget's Histogram\")"
   ]
  },
  {
   "cell_type": "markdown",
   "metadata": {},
   "source": [
    "### Research Question 3:Finding the Year in which most movies were released"
   ]
  },
  {
   "cell_type": "code",
   "execution_count": 31,
   "metadata": {
    "scrolled": false
   },
   "outputs": [
    {
     "data": {
      "text/plain": [
       "release_year\n",
       "1960     32\n",
       "1961     31\n",
       "1962     32\n",
       "1963     34\n",
       "1964     42\n",
       "1965     35\n",
       "1966     46\n",
       "1967     40\n",
       "1968     39\n",
       "1969     31\n",
       "1970     41\n",
       "1971     55\n",
       "1972     40\n",
       "1973     55\n",
       "1974     47\n",
       "1975     44\n",
       "1976     47\n",
       "1977     57\n",
       "1978     65\n",
       "1979     57\n",
       "1980     78\n",
       "1981     82\n",
       "1982     81\n",
       "1983     80\n",
       "1984    105\n",
       "1985    109\n",
       "1986    121\n",
       "1987    125\n",
       "1988    145\n",
       "1989    137\n",
       "1990    132\n",
       "1991    133\n",
       "1992    133\n",
       "1993    178\n",
       "1994    184\n",
       "1995    175\n",
       "1996    204\n",
       "1997    192\n",
       "1998    210\n",
       "1999    224\n",
       "2000    227\n",
       "2001    242\n",
       "2002    266\n",
       "2003    281\n",
       "2004    307\n",
       "2005    364\n",
       "2006    408\n",
       "2007    438\n",
       "2008    496\n",
       "2009    533\n",
       "2010    489\n",
       "2011    540\n",
       "2012    588\n",
       "2013    659\n",
       "2014    700\n",
       "2015    629\n",
       "Name: id, dtype: int64"
      ]
     },
     "execution_count": 31,
     "metadata": {},
     "output_type": "execute_result"
    }
   ],
   "source": [
    "number_of_movies_by_year = movie_data.groupby(['release_year']).count()['id']\n",
    "number_of_movies_by_year"
   ]
  },
  {
   "cell_type": "code",
   "execution_count": 32,
   "metadata": {},
   "outputs": [
    {
     "data": {
      "image/png": "[encoded data removed]",
      "text/plain": [
       "<Figure size 1440x720 with 1 Axes>"
      ]
     },
     "metadata": {},
     "output_type": "display_data"
    }
   ],
   "source": [
    "ax=plt.subplot()\n",
    "number_of_movies_by_year.plot.bar(figsize=(20,10),grid=True,width=0.8)\n",
    "plt.title(\"Number of movies throughout years\",size=25)\n",
    "plt.xlabel(\"Movie Years\",size=20)\n",
    "plt.ylabel(\"Total Movies in a Year \",size=20)\n",
    "ax.tick_params(labelsize=15,labelcolor='green')"
   ]
  },
  {
   "cell_type": "code",
   "execution_count": 33,
   "metadata": {
    "scrolled": false
   },
   "outputs": [
    {
     "name": "stdout",
     "output_type": "stream",
     "text": [
      "The Highest number of movies released in a year is 700 in year 2014\n"
     ]
    }
   ],
   "source": [
    "print(\"The Highest number of movies released in a year is {} in year {}\".format(number_of_movies_by_year.max() \\\n",
    "                                                                     ,number_of_movies_by_year.idxmax()))"
   ]
  },
  {
   "cell_type": "markdown",
   "metadata": {},
   "source": [
    "### Research Question 4:Finding the average ratings of the movies released in the year"
   ]
  },
  {
   "cell_type": "code",
   "execution_count": 34,
   "metadata": {
    "scrolled": false
   },
   "outputs": [
    {
     "data": {
      "text/plain": [
       "release_year\n",
       "1960    6.32\n",
       "1961    6.37\n",
       "1962    6.34\n",
       "1963    6.33\n",
       "1964    6.21\n",
       "1965    6.19\n",
       "1966    6.13\n",
       "1967    6.24\n",
       "1968    6.38\n",
       "1969    5.96\n",
       "1970    6.42\n",
       "1971    6.42\n",
       "1972    6.53\n",
       "1973    6.70\n",
       "1974    6.40\n",
       "1975    6.39\n",
       "1976    6.34\n",
       "1977    6.15\n",
       "1978    6.13\n",
       "1979    6.31\n",
       "1980    6.16\n",
       "1981    6.17\n",
       "1982    6.24\n",
       "1983    5.97\n",
       "1984    6.00\n",
       "1985    6.18\n",
       "1986    6.00\n",
       "1987    6.13\n",
       "1988    5.97\n",
       "1989    6.07\n",
       "1990    5.99\n",
       "1991    6.01\n",
       "1992    6.08\n",
       "1993    6.05\n",
       "1994    5.94\n",
       "1995    6.06\n",
       "1996    5.90\n",
       "1997    5.99\n",
       "1998    5.97\n",
       "1999    6.03\n",
       "2000    5.88\n",
       "2001    5.90\n",
       "2002    5.97\n",
       "2003    5.93\n",
       "2004    5.99\n",
       "2005    5.87\n",
       "2006    5.94\n",
       "2007    5.96\n",
       "2008    5.93\n",
       "2009    5.86\n",
       "2010    5.99\n",
       "2011    5.96\n",
       "2012    5.80\n",
       "2013    5.88\n",
       "2014    5.92\n",
       "2015    5.89\n",
       "Name: vote_average, dtype: float64"
      ]
     },
     "execution_count": 34,
     "metadata": {},
     "output_type": "execute_result"
    }
   ],
   "source": [
    "average_ratings_by_year = round(movie_data.groupby(['release_year']).mean()['vote_average'],2)\n",
    "average_ratings_by_year"
   ]
  },
  {
   "cell_type": "code",
   "execution_count": 35,
   "metadata": {
    "scrolled": false
   },
   "outputs": [
    {
     "data": {
      "image/png": "[encoded data removed]",
      "text/plain": [
       "<Figure size 1440x720 with 1 Axes>"
      ]
     },
     "metadata": {},
     "output_type": "display_data"
    }
   ],
   "source": [
    "ax=plt.subplot()\n",
    "average_ratings_by_year.plot.bar(figsize=(20,10),grid=True,width=0.6)\n",
    "plt.title(\"Average Ratings of movies in a year\",size=25)\n",
    "plt.xlabel(\"Movie Years\",size=20)\n",
    "plt.ylabel(\"Average Ratings\",size=20)\n",
    "plt.ylim(0,10,1)\n",
    "ax.tick_params(labelsize=15,labelcolor='teal')"
   ]
  },
  {
   "cell_type": "code",
   "execution_count": 36,
   "metadata": {
    "scrolled": false
   },
   "outputs": [
    {
     "name": "stdout",
     "output_type": "stream",
     "text": [
      "The Highest Average ratings of movies in a year is 6.7 in year 1973\n"
     ]
    }
   ],
   "source": [
    "print(\"The Highest Average ratings of movies in a year is {} in year {}\".format(average_ratings_by_year.max() \\\n",
    "                                                                     ,average_ratings_by_year.idxmax()))"
   ]
  },
  {
   "cell_type": "markdown",
   "metadata": {},
   "source": [
    "### Research Question 5:Top 10 most earning movies of all time"
   ]
  },
  {
   "cell_type": "code",
   "execution_count": 37,
   "metadata": {
    "scrolled": true
   },
   "outputs": [
    {
     "data": {
      "text/plain": [
       "original_title\n",
       "Avatar                                          2.544506e+09\n",
       "Star Wars: The Force Awakens                    1.868178e+09\n",
       "Titanic                                         1.632034e+09\n",
       "Jurassic World                                  1.363529e+09\n",
       "Furious 7                                       1.316249e+09\n",
       "The Avengers                                    1.288081e+09\n",
       "Harry Potter and the Deathly Hallows: Part 2    1.202818e+09\n",
       "Frozen                                          1.127285e+09\n",
       "Avengers: Age of Ultron                         1.125036e+09\n",
       "The Net                                         1.084280e+09\n",
       "dtype: float64"
      ]
     },
     "execution_count": 37,
     "metadata": {},
     "output_type": "execute_result"
    }
   ],
   "source": [
    "profit=movie_data.groupby('original_title').sum()[\"revenue\"]-movie_data.groupby(\"original_title\").sum()[\"budget\"]\n",
    "#to find 10 largest profits\n",
    "top10_movies=profit.nlargest(10)\n",
    "top10_movies"
   ]
  },
  {
   "cell_type": "code",
   "execution_count": 38,
   "metadata": {},
   "outputs": [
    {
     "data": {
      "image/png": "[encoded data removed]",
      "text/plain": [
       "<Figure size 1440x720 with 1 Axes>"
      ]
     },
     "metadata": {},
     "output_type": "display_data"
    }
   ],
   "source": [
    "ax=plt.subplot()\n",
    "top10_movies.plot.bar(figsize=(20,10),grid=True,width=0.4)\n",
    "plt.title(\"Top 1o Movies \",size=25)\n",
    "plt.xlabel(\"Movie Names\",size=20)\n",
    "plt.ylabel(\"Average Ratings\",size=20)\n",
    "ax.tick_params(labelsize=15,labelcolor='teal')"
   ]
  },
  {
   "cell_type": "markdown",
   "metadata": {},
   "source": [
    "<a id='conclusions'></a>\n",
    "## Conclusions\n",
    "<br>\n",
    "<ul>\n",
    "<li>From data and visualization for \"Revenues generated each years\" we found that The Highest movie revenue is 26,762,450,518.00 in year 2015 and it seems like revenue keeps on increasing with the year which is a correlation here but it does not imply causation as in some points the revenue at that point is greater than the next point</li>\n",
    "<br>\n",
    "    <li>\n",
    "From data and visualization for \"Budgets throughout years\" we found that The Highest movie budget is 9,355,001,006.00 in year 2010 and it seems with the year the budget is also increasing so we can say budgets and years have corelation but it does nor necessarily imply causation</li>\n",
    "<br>\n",
    "<li>\n",
    "From data and visualization for \"Number of movies throughout years\" we found that  The Highest number of movies released in a year is 700 in year 2014 and we can see with the time number of movies in ayear increases which signifies number of movies have some correlation with year but it doesn't imply causation because increase is not exponential as it is decreasing in some points\n",
    "</li>\n",
    "<br>\n",
    "<li>\n",
    "From data and visualization for \"Average Ratings of movie in a year\" we found that The Highest Average ratings of movies in a year is 6.7 in year 1973 as we know average rating depends on vote given by users so it has no correlation with years \n",
    "</li>\n",
    "<br>\n",
    "<li>\n",
    "From data and visualization for \"Top 10 Movies of all time\" we found that Top 10 movies are:\n",
    "<ol>\n",
    "<li>Avatar</li>                                        \n",
    "<li>Star Wars: The Force Awakens</li>                 \n",
    "<li>Titanic</li><br>\n",
    "<li>Jurassic World</li>                           \n",
    "<li>Furious 7</li>                                      \n",
    "<li>The Avengers</li><br>\n",
    "<li>Harry Potter and the Deathly Hallows: Part 2 </li>   \n",
    "<li>Frozen</li>                                        \n",
    "<li>Avengers: Age of Ultron</li>                        \n",
    "<li>The Net</li>                                     \n",
    "</ol>\n",
    "</li>\n",
    "</ul>\n",
    "<br>\n",
    "Limitation: As we have not got information of the actual cost of the film in the dataset.So to generate profit,we have subtracted budget from revenue which is not the accurate way to calculate the profit made by the movies as cost for movie may be greater or less than budget.Also,there were a lot of zero values in the revenue and budget were in excess and we may have inaccuratency by removing or replacing them.\n",
    "so,making calculations related to these columns would not be a good idea.\n",
    "<br>\n",
    "Also,the data we are investing on are sample datas with somehow incomplete.So, prediction on basis of these data may not match in real life"
   ]
  },
  {
   "cell_type": "code",
   "execution_count": null,
   "metadata": {},
   "outputs": [],
   "source": []
  }
 ],
 "metadata": {
  "kernelspec": {
   "display_name": "Python [default]",
   "language": "python",
   "name": "python3"
  },
  "language_info": {
   "codemirror_mode": {
    "name": "ipython",
    "version": 3
   },
   "file_extension": ".py",
   "mimetype": "text/x-python",
   "name": "python",
   "nbconvert_exporter": "python",
   "pygments_lexer": "ipython3",
   "version": "3.6.5"
  }
 },
 "nbformat": 4,
 "nbformat_minor": 2
}
